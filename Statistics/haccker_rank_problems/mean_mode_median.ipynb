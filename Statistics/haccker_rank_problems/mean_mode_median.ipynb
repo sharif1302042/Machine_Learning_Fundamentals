{
 "cells": [
  {
   "cell_type": "markdown",
   "metadata": {},
   "source": [
    "problem_link: https://www.hackerrank.com/challenges/s10-basic-statistics/problem\n",
    "\n"
   ]
  },
  {
   "cell_type": "code",
   "execution_count": 21,
   "metadata": {},
   "outputs": [
    {
     "name": "stdout",
     "output_type": "stream",
     "text": [
      "43900.6\n",
      "44627.5\n",
      "4978\n"
     ]
    }
   ],
   "source": [
    "n = int(input())\n",
    "a = [int(x) for x in input().split()]"
   ]
  },
  {
   "cell_type": "code",
   "execution_count": null,
   "metadata": {},
   "outputs": [],
   "source": [
    "print(round(sum(a)/n,1))\n",
    "\n",
    "a = sorted(a)\n",
    "if n%2!=0:\n",
    "    print(round(a[n//2],1))\n",
    "else:\n",
    "    print(round((a[n//2-1]+a[(n//2)])/2,1))\n",
    "\n",
    "    \n",
    "# for mode\n",
    "mx = 0\n",
    "number = a[0]\n",
    "for i in a:\n",
    "    c = a.count(i)\n",
    "    if c>mx:\n",
    "        mx=c\n",
    "        number = i\n",
    "print(number)\n"
   ]
  }
 ],
 "metadata": {
  "kernelspec": {
   "display_name": "Python 3",
   "language": "python",
   "name": "python3"
  },
  "language_info": {
   "codemirror_mode": {
    "name": "ipython",
    "version": 3
   },
   "file_extension": ".py",
   "mimetype": "text/x-python",
   "name": "python",
   "nbconvert_exporter": "python",
   "pygments_lexer": "ipython3",
   "version": "3.7.3"
  }
 },
 "nbformat": 4,
 "nbformat_minor": 2
}
