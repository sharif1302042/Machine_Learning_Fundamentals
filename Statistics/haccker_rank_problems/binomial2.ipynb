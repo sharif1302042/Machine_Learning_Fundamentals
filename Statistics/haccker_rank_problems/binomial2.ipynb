{
 "cells": [
  {
   "cell_type": "markdown",
   "metadata": {},
   "source": [
    "problem_link : https://www.hackerrank.com/challenges/s10-binomial-distribution-2/problem"
   ]
  },
  {
   "cell_type": "code",
   "execution_count": 18,
   "metadata": {},
   "outputs": [],
   "source": [
    "def factorial(n):\n",
    "    if n==1:\n",
    "        return 1\n",
    "    else:\n",
    "        return n*factorial(n-1)"
   ]
  },
  {
   "cell_type": "code",
   "execution_count": 2,
   "metadata": {},
   "outputs": [
    {
     "name": "stdout",
     "output_type": "stream",
     "text": [
      "120\n"
     ]
    }
   ],
   "source": [
    "print(factorial(5))"
   ]
  },
  {
   "cell_type": "code",
   "execution_count": 17,
   "metadata": {},
   "outputs": [],
   "source": [
    "def optimized_factorial_for_ncr(n,r):\n",
    "    if n==r or n==1:\n",
    "        return 1\n",
    "    return n*optimized_factorial_for_ncr(n-1,r)\n",
    "        "
   ]
  },
  {
   "cell_type": "code",
   "execution_count": 30,
   "metadata": {},
   "outputs": [],
   "source": [
    "def ncr(n,r):\n",
    "    total = factorial(n)/((factorial(r))*factorial(n-r))\n",
    "    print(total)"
   ]
  },
  {
   "cell_type": "code",
   "execution_count": 35,
   "metadata": {},
   "outputs": [
    {
     "name": "stdout",
     "output_type": "stream",
     "text": [
      "499500.0\n"
     ]
    }
   ],
   "source": [
    "ncr(1000,2)"
   ]
  },
  {
   "cell_type": "code",
   "execution_count": 39,
   "metadata": {},
   "outputs": [],
   "source": [
    "def optimized_ncr(n,r):\n",
    "    if (n-r)>=r:\n",
    "        total = optimized_factorial_for_ncr(n,n-r)/factorial(r)\n",
    "    else:\n",
    "        total = optimized_factorial_for_ncr(n,r)/factorial(n-r) \n",
    "    return total\n",
    "        \n"
   ]
  },
  {
   "cell_type": "code",
   "execution_count": 41,
   "metadata": {},
   "outputs": [
    {
     "name": "stdout",
     "output_type": "stream",
     "text": [
      "45.0\n",
      "0.23304317207398317\n"
     ]
    }
   ],
   "source": [
    "from math import pow\n",
    "ncr = optimized_ncr(10,2)\n",
    "print(ncr)\n",
    "mul = pow(0.12,2)*pow(0.88,8)\n",
    "print(ncr*mul)"
   ]
  },
  {
   "cell_type": "code",
   "execution_count": null,
   "metadata": {},
   "outputs": [],
   "source": []
  }
 ],
 "metadata": {
  "kernelspec": {
   "display_name": "Python 3",
   "language": "python",
   "name": "python3"
  },
  "language_info": {
   "codemirror_mode": {
    "name": "ipython",
    "version": 3
   },
   "file_extension": ".py",
   "mimetype": "text/x-python",
   "name": "python",
   "nbconvert_exporter": "python",
   "pygments_lexer": "ipython3",
   "version": "3.7.3"
  }
 },
 "nbformat": 4,
 "nbformat_minor": 2
}
