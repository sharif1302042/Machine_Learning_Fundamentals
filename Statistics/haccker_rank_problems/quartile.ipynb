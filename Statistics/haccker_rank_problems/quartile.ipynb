{
 "cells": [
  {
   "cell_type": "markdown",
   "metadata": {},
   "source": [
    "problem_link: https://www.hackerrank.com/challenges/s10-quartiles/problem"
   ]
  },
  {
   "cell_type": "code",
   "execution_count": 92,
   "metadata": {},
   "outputs": [
    {
     "name": "stdout",
     "output_type": "stream",
     "text": [
      "7\n",
      "1 2 3 4 5 6 7\n"
     ]
    }
   ],
   "source": [
    "from statistics import median\n",
    "\n",
    "n = int(input())\n",
    "arr = sorted([int(x) for x in input().split()])"
   ]
  },
  {
   "cell_type": "code",
   "execution_count": 93,
   "metadata": {},
   "outputs": [
    {
     "name": "stdout",
     "output_type": "stream",
     "text": [
      "[1, 2, 3] [5, 6, 7]\n",
      "2\n",
      "4\n",
      "6\n"
     ]
    }
   ],
   "source": [
    "\n",
    "t=int(len(arr)/2)\n",
    "\n",
    "if len(arr)%2==0:\n",
    "    L=arr[:t]\n",
    "    U=arr[t:]\n",
    "else:\n",
    "    L=arr[:t]\n",
    "    U=arr[t+1:]\n",
    "\n",
    "print(int(median(L)))\n",
    "print(int(median(arr)))\n",
    "print(int(median(U)))"
   ]
  },
  {
   "cell_type": "code",
   "execution_count": 86,
   "metadata": {},
   "outputs": [
    {
     "name": "stdout",
     "output_type": "stream",
     "text": [
      "[3, 4, 4, 4, 7, 10, 12, 12, 14, 16, 17, 18]\n",
      "[3, 4, 4, 4, 7, 10]\n",
      "[12, 12, 14, 16, 17, 18]\n",
      "4 11.0 16\n"
     ]
    }
   ],
   "source": []
  },
  {
   "cell_type": "code",
   "execution_count": null,
   "metadata": {},
   "outputs": [],
   "source": []
  }
 ],
 "metadata": {
  "kernelspec": {
   "display_name": "Python 3",
   "language": "python",
   "name": "python3"
  },
  "language_info": {
   "codemirror_mode": {
    "name": "ipython",
    "version": 3
   },
   "file_extension": ".py",
   "mimetype": "text/x-python",
   "name": "python",
   "nbconvert_exporter": "python",
   "pygments_lexer": "ipython3",
   "version": "3.7.3"
  }
 },
 "nbformat": 4,
 "nbformat_minor": 2
}
