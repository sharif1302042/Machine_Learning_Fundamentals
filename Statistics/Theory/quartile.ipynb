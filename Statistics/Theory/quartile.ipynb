{
 "cells": [
  {
   "cell_type": "markdown",
   "metadata": {},
   "source": [
    "# Quartile\n",
    "Each of Four Equal groups into which a population of results can be divided "
   ]
  },
  {
   "cell_type": "markdown",
   "metadata": {},
   "source": [
    "The quartiles of an ordered data set are the 3 points that split the data set into 4 equal groups. The 3 quartiles are defined as follows:\n",
    "\n",
    "\n",
    "Q1: The first quartile is the middle number between the smallest number in a data set and its median.\n",
    "\n",
    "Q2: The second quartile is the median (50th percentile) of the data set.\n",
    "\n",
    "Q3: The third quartile is the middle number between a data set's median and its largest number."
   ]
  },
  {
   "cell_type": "markdown",
   "metadata": {},
   "source": [
    "### Computing the First and Third Quartile"
   ]
  },
  {
   "cell_type": "markdown",
   "metadata": {},
   "source": [
    "If there are an odd number of data points in the original ordered data set, do not include the median (the central value in the ordered list) in either half.\n",
    "\n",
    "If there are an even number of data points in the original ordered data set, split this data set exactly in half."
   ]
  },
  {
   "cell_type": "code",
   "execution_count": null,
   "metadata": {},
   "outputs": [],
   "source": []
  }
 ],
 "metadata": {
  "kernelspec": {
   "display_name": "Python 3",
   "language": "python",
   "name": "python3"
  },
  "language_info": {
   "codemirror_mode": {
    "name": "ipython",
    "version": 3
   },
   "file_extension": ".py",
   "mimetype": "text/x-python",
   "name": "python",
   "nbconvert_exporter": "python",
   "pygments_lexer": "ipython3",
   "version": "3.7.3"
  }
 },
 "nbformat": 4,
 "nbformat_minor": 2
}
