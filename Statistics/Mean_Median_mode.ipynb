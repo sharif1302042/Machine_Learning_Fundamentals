{
 "cells": [
  {
   "cell_type": "markdown",
   "metadata": {},
   "source": [
    "# Mean, Median, Mode"
   ]
  },
  {
   "cell_type": "markdown",
   "metadata": {},
   "source": [
    "## Mean(Average)\n",
    "The average value of the dataset. That is total summation of the value and divide by their numbers."
   ]
  },
  {
   "cell_type": "code",
   "execution_count": 6,
   "metadata": {},
   "outputs": [],
   "source": [
    "a = [10,20,30,5,50,10,20,10,100,20]\n",
    "total = sum(a)\n",
    "number_of_element = 10\n",
    "\n",
    "mean = total/number_of_element"
   ]
  },
  {
   "cell_type": "markdown",
   "metadata": {},
   "source": [
    "## Median(middle value)\n",
    "The midpoint value of a data set for which an equal number of samples are less than and greater than the value. For an odd sample size, this is the middle element of the sorted sample; for an even sample size, this is the average of the  middle elements of the sorted sample."
   ]
  },
  {
   "cell_type": "code",
   "execution_count": 9,
   "metadata": {},
   "outputs": [
    {
     "name": "stdout",
     "output_type": "stream",
     "text": [
      "20.0\n"
     ]
    }
   ],
   "source": [
    "a = sorted(a) # first sort the data elements\n",
    "\n",
    "\"\"\"\n",
    "if the number of elements is odd then median is a[number_of_element//2]\n",
    "if the number_of_element is even then median is (a[number_of_element//2-1] + a[(number_of_element//2)])/2\n",
    "\"\"\"\n",
    "\n",
    "if number_of_element%2!=0:\n",
    "    print(round(a[number_of_element//2],1))\n",
    "else:\n",
    "    print(round((a[number_of_element//2-1]+a[(number_of_element//2)])/2,1))\n"
   ]
  },
  {
   "cell_type": "markdown",
   "metadata": {},
   "source": [
    "# Mode\n",
    "The element(s) that occur most frequently in a data set. For the set {1,1,1,2,2,3,3}, the mode is 1,  because the number  appears three times in the set and every other number in the set has a frequency . \n",
    "\n",
    "### multimodal\n",
    "Possessing more than one mode. A set of values having a single unique mode is said to be unimodal, one with two modes is called bimodal, and one with three modes is called trimodal."
   ]
  },
  {
   "cell_type": "code",
   "execution_count": 10,
   "metadata": {},
   "outputs": [
    {
     "name": "stdout",
     "output_type": "stream",
     "text": [
      "10\n"
     ]
    }
   ],
   "source": [
    "# for mode\n",
    "mx = 0\n",
    "number = a[0]\n",
    "for i in a:\n",
    "    c = a.count(i)\n",
    "    if c>mx:\n",
    "        mx=c\n",
    "        number = i\n",
    "print(number)"
   ]
  },
  {
   "cell_type": "markdown",
   "metadata": {},
   "source": [
    "## Precision and Scale.\n",
    "These are important terms to understand when formatting your output:\n",
    "\n",
    "Precision refers to the number of significant digits in a number. For example, the numbers 123.45 and 0.012345 both have a precision of 5.\n",
    "\n",
    "Scale refers to the number of significant digits to the right of the decimal point. For example, the number 123.45  has a scale of 2  decimal places. This term is sometimes misrepresented as precision in documentation."
   ]
  },
  {
   "cell_type": "markdown",
   "metadata": {},
   "source": [
    "## Weighted Mean\n",
    "\n",
    "Given a discrete set of numbers X, and a corresponding set of weights, W, the weighted mean is calculated as follows:\n",
    "\n",
    "weighted_mean = sum_of(X*W)/sum_of(W) \n"
   ]
  },
  {
   "cell_type": "code",
   "execution_count": null,
   "metadata": {},
   "outputs": [],
   "source": []
  }
 ],
 "metadata": {
  "kernelspec": {
   "display_name": "Python 3",
   "language": "python",
   "name": "python3"
  },
  "language_info": {
   "codemirror_mode": {
    "name": "ipython",
    "version": 3
   },
   "file_extension": ".py",
   "mimetype": "text/x-python",
   "name": "python",
   "nbconvert_exporter": "python",
   "pygments_lexer": "ipython3",
   "version": "3.7.3"
  }
 },
 "nbformat": 4,
 "nbformat_minor": 2
}
