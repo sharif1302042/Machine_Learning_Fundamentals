{
 "cells": [
  {
   "cell_type": "markdown",
   "metadata": {},
   "source": [
    "# Mean, Var, and Std"
   ]
  },
  {
   "cell_type": "markdown",
   "metadata": {},
   "source": []
  },
  {
   "cell_type": "code",
   "execution_count": 16,
   "metadata": {},
   "outputs": [],
   "source": [
    "import numpy as np\n",
    "my_array = np.array([ [1, 2], [3, 4] ])"
   ]
  },
  {
   "cell_type": "markdown",
   "metadata": {},
   "source": [
    "## mean\n",
    "The mean tool computes the arithmetic mean along the specified axis.\n",
    "\n",
    "By default, the axis is None. Therefore, it computes the mean of the flattened array."
   ]
  },
  {
   "cell_type": "code",
   "execution_count": 14,
   "metadata": {},
   "outputs": [
    {
     "name": "stdout",
     "output_type": "stream",
     "text": [
      "[2. 3.]\n",
      "[1.5 3.5]\n",
      "2.5\n",
      "2.5\n"
     ]
    }
   ],
   "source": [
    "print(np.mean(my_array, axis = 0))        #Output : [ 2.  3.] COL wise operation  \n",
    "print(np.mean(my_array, axis = 1))        #Output : [ 1.5  3.5] ROW wise operation\n",
    "print(np.mean(my_array, axis = None))    #Output : 2.5\n",
    "print(np.mean(my_array))                  #Output : 2.5"
   ]
  },
  {
   "cell_type": "markdown",
   "metadata": {},
   "source": [
    "## Var\n",
    "The var tool computes the arithmetic variance along the specified axis.\n",
    "\n",
    "By default, the axis is None. Therefore, it computes the variance of the flattened array.\n"
   ]
  },
  {
   "cell_type": "code",
   "execution_count": 20,
   "metadata": {},
   "outputs": [
    {
     "name": "stdout",
     "output_type": "stream",
     "text": [
      "[1. 1.]\n",
      "[0.25 0.25]\n",
      "1.25\n",
      "1.25\n"
     ]
    }
   ],
   "source": [
    "print(np.var(my_array, axis = 0))        #Output : [ 2.  3.] COL wise operation  \n",
    "print(np.var(my_array, axis = 1))        #Output : [ 1.5  3.5] ROW wise operation\n",
    "print(np.var(my_array, axis = None))    #Output : 2.5\n",
    "print(np.var(my_array))  #Output : 2.5"
   ]
  },
  {
   "cell_type": "markdown",
   "metadata": {},
   "source": [
    "## STD\n",
    "The std tool computes the arithmetic standard deviation along the specified axis.\n",
    "\n"
   ]
  },
  {
   "cell_type": "code",
   "execution_count": 24,
   "metadata": {},
   "outputs": [
    {
     "name": "stdout",
     "output_type": "stream",
     "text": [
      "[1. 1.]\n",
      "[0.5 0.5]\n",
      "1.118033988749895\n",
      "1.118033988749895\n"
     ]
    }
   ],
   "source": [
    "print(np.std(my_array, axis = 0))        #Output : [ 2.  3.] COL wise operation  \n",
    "print(np.std(my_array, axis = 1))        #Output : [ 1.5  3.5] ROW wise operation\n",
    "print(np.std(my_array, axis = None))    #Output : 2.5\n",
    "print(np.std(my_array))  #Output : 2.5"
   ]
  },
  {
   "cell_type": "code",
   "execution_count": null,
   "metadata": {},
   "outputs": [],
   "source": []
  }
 ],
 "metadata": {
  "kernelspec": {
   "display_name": "Python 3",
   "language": "python",
   "name": "python3"
  },
  "language_info": {
   "codemirror_mode": {
    "name": "ipython",
    "version": 3
   },
   "file_extension": ".py",
   "mimetype": "text/x-python",
   "name": "python",
   "nbconvert_exporter": "python",
   "pygments_lexer": "ipython3",
   "version": "3.7.3"
  }
 },
 "nbformat": 4,
 "nbformat_minor": 2
}
