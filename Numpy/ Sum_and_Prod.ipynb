{
 "cells": [
  {
   "cell_type": "markdown",
   "metadata": {},
   "source": [
    "# Sum and Prod"
   ]
  },
  {
   "cell_type": "code",
   "execution_count": 1,
   "metadata": {},
   "outputs": [],
   "source": [
    "import numpy as np"
   ]
  },
  {
   "cell_type": "markdown",
   "metadata": {},
   "source": [
    "## sum\n",
    "The sum tool returns the sum of array elements over a given axis."
   ]
  },
  {
   "cell_type": "code",
   "execution_count": 12,
   "metadata": {},
   "outputs": [
    {
     "name": "stdout",
     "output_type": "stream",
     "text": [
      "[4 6]\n",
      "[3 7]\n",
      "10\n",
      "10\n"
     ]
    }
   ],
   "source": [
    "# for one dimension array\n",
    "a = np.array([ [1, 2], [3, 4] ])\n",
    "\n",
    "print(np.sum(a, axis = 0))         #Output : [4 6]\n",
    "print(np.sum(a, axis = 1))         #Output : [3 7]\n",
    "print(np.sum(a, axis = None))         #Output : 10\n",
    "\n",
    "print(np.sum(a))         #Output : 10\n"
   ]
  },
  {
   "cell_type": "markdown",
   "metadata": {},
   "source": [
    "## prod\n",
    "The prod tool returns the product of array elements over a given axis."
   ]
  },
  {
   "cell_type": "code",
   "execution_count": 17,
   "metadata": {},
   "outputs": [
    {
     "name": "stdout",
     "output_type": "stream",
     "text": [
      "[3 8]\n",
      "[ 2 12]\n",
      "24\n",
      "24\n"
     ]
    }
   ],
   "source": [
    "a = np .array([[1,2],[3,4]])\n",
    "print(np.prod(a, axis = 0))         #Output : [3 8]\n",
    "print(np.prod(a, axis = 1))         #Output : [ 2 12]\n",
    "print(np.prod(a, axis = None))         #Output :24\n",
    "\n",
    "print(np.prod(a))         #Output : 24\n"
   ]
  },
  {
   "cell_type": "code",
   "execution_count": null,
   "metadata": {},
   "outputs": [],
   "source": []
  },
  {
   "cell_type": "code",
   "execution_count": null,
   "metadata": {},
   "outputs": [],
   "source": []
  }
 ],
 "metadata": {
  "kernelspec": {
   "display_name": "Python 3",
   "language": "python",
   "name": "python3"
  },
  "language_info": {
   "codemirror_mode": {
    "name": "ipython",
    "version": 3
   },
   "file_extension": ".py",
   "mimetype": "text/x-python",
   "name": "python",
   "nbconvert_exporter": "python",
   "pygments_lexer": "ipython3",
   "version": "3.7.3"
  }
 },
 "nbformat": 4,
 "nbformat_minor": 2
}
